{
 "cells": [
  {
   "cell_type": "code",
   "execution_count": 1,
   "metadata": {},
   "outputs": [],
   "source": [
    "from langchain.document_loaders import UnstructuredPDFLoader\n",
    "from langchain.text_splitter import RecursiveCharacterTextSplitter"
   ]
  },
  {
   "cell_type": "code",
   "execution_count": 2,
   "metadata": {},
   "outputs": [],
   "source": [
    "loader = UnstructuredPDFLoader(\"../Downloads/Ayurveda-Cookbook.pdf\")"
   ]
  },
  {
   "cell_type": "code",
   "execution_count": 3,
   "metadata": {},
   "outputs": [
    {
     "name": "stderr",
     "output_type": "stream",
     "text": [
      "100%|█████████████████████████████████████████████| 5/5 [00:00<00:00, 12.88it/s]\n",
      "100%|█████████████████████████████████████████████| 8/8 [00:00<00:00, 55.71it/s]\n",
      "100%|████████████████████████████████████████████| 8/8 [00:00<00:00, 378.64it/s]\n",
      "100%|████████████████████████████████████████████| 9/9 [00:00<00:00, 406.56it/s]\n",
      "100%|████████████████████████████████████████████| 8/8 [00:00<00:00, 384.01it/s]\n",
      "100%|████████████████████████████████████████████| 7/7 [00:00<00:00, 431.20it/s]\n",
      "100%|█████████████████████████████████████████████| 6/6 [00:00<00:00, 41.72it/s]\n",
      "100%|████████████████████████████████████████████| 7/7 [00:00<00:00, 364.80it/s]\n",
      "100%|████████████████████████████████████████████| 2/2 [00:00<00:00, 411.53it/s]\n",
      "100%|█████████████████████████████████████████████| 4/4 [00:00<00:00, 25.98it/s]\n",
      "100%|█████████████████████████████████████████████| 6/6 [00:00<00:00, 39.94it/s]\n",
      "100%|█████████████████████████████████████████████| 5/5 [00:00<00:00, 33.35it/s]\n",
      "100%|█████████████████████████████████████████████| 9/9 [00:00<00:00, 33.00it/s]\n",
      "100%|██████████████████████████████████████████| 11/11 [00:00<00:00, 419.38it/s]\n",
      "100%|████████████████████████████████████████████| 7/7 [00:00<00:00, 373.61it/s]\n",
      "100%|████████████████████████████████████████████| 8/8 [00:00<00:00, 394.54it/s]\n",
      "100%|████████████████████████████████████████████| 8/8 [00:00<00:00, 440.87it/s]\n",
      "100%|█████████████████████████████████████████████| 7/7 [00:00<00:00, 17.12it/s]\n",
      "100%|████████████████████████████████████████████| 9/9 [00:00<00:00, 430.89it/s]\n",
      "100%|████████████████████████████████████████████| 9/9 [00:00<00:00, 456.18it/s]\n",
      "100%|█████████████████████████████████████████████| 8/8 [00:00<00:00, 45.42it/s]\n",
      "100%|██████████████████████████████████████████| 11/11 [00:00<00:00, 401.05it/s]\n",
      "100%|███████████████████████████████████████████| 10/10 [00:00<00:00, 66.34it/s]\n",
      "100%|█████████████████████████████████████████████| 7/7 [00:00<00:00, 46.47it/s]\n",
      "100%|████████████████████████████████████████████| 9/9 [00:00<00:00, 534.22it/s]\n",
      "100%|█████████████████████████████████████████████| 8/8 [00:00<00:00, 54.16it/s]\n",
      "100%|███████████████████████████████████████████| 6/6 [00:00<00:00, 2958.60it/s]\n",
      "100%|██████████████████████████████████████████| 12/12 [00:00<00:00, 612.84it/s]\n",
      "100%|████████████████████████████████████████████| 9/9 [00:00<00:00, 351.66it/s]\n",
      "100%|█████████████████████████████████████████████| 7/7 [00:00<00:00, 47.20it/s]\n",
      "100%|████████████████████████████████████████████| 9/9 [00:00<00:00, 563.91it/s]\n",
      "100%|█████████████████████████████████████████████| 7/7 [00:00<00:00, 45.28it/s]\n",
      "100%|█████████████████████████████████████████████| 7/7 [00:00<00:00, 46.25it/s]\n",
      "100%|████████████████████████████████████████████| 4/4 [00:00<00:00, 794.11it/s]\n",
      "100%|███████████████████████████████████████████| 10/10 [00:00<00:00, 64.87it/s]\n",
      "100%|█████████████████████████████████████████████| 8/8 [00:00<00:00, 56.17it/s]\n",
      "100%|███████████████████████████████████████████| 10/10 [00:00<00:00, 68.27it/s]\n",
      "100%|███████████████████████████████████████████| 5/5 [00:00<00:00, 5086.47it/s]\n",
      "100%|█████████████████████████████████████████████| 9/9 [00:00<00:00, 33.00it/s]\n",
      "100%|█████████████████████████████████████████████| 7/7 [00:00<00:00, 45.86it/s]\n",
      "100%|███████████████████████████████████████████| 11/11 [00:00<00:00, 71.59it/s]\n",
      "100%|█████████████████████████████████████████████| 6/6 [00:00<00:00, 34.34it/s]\n",
      "100%|█████████████████████████████████████████████| 8/8 [00:00<00:00, 52.41it/s]\n",
      "100%|███████████████████████████████████████████| 6/6 [00:00<00:00, 4469.95it/s]\n",
      "100%|█████████████████████████████████████████████| 8/8 [00:00<00:00, 55.29it/s]\n",
      "100%|█████████████████████████████████████████████| 9/9 [00:00<00:00, 58.87it/s]\n",
      "100%|█████████████████████████████████████████████| 7/7 [00:00<00:00, 46.37it/s]\n",
      "100%|█████████████████████████████████████████████| 6/6 [00:00<00:00, 33.69it/s]\n",
      "100%|█████████████████████████████████████████████| 8/8 [00:00<00:00, 30.11it/s]\n",
      "100%|█████████████████████████████████████████| 15/15 [00:00<00:00, 2381.32it/s]\n",
      "100%|██████████████████████████████████████████| 11/11 [00:00<00:00, 482.86it/s]\n",
      "100%|███████████████████████████████████████████| 11/11 [00:00<00:00, 73.11it/s]\n",
      "100%|█████████████████████████████████████████████| 7/7 [00:00<00:00, 49.16it/s]\n",
      "100%|█████████████████████████████████████████████| 6/6 [00:00<00:00, 40.96it/s]\n",
      "100%|█████████████████████████████████████████████| 7/7 [00:00<00:00, 46.78it/s]\n",
      "100%|█████████████████████████████████████████████| 9/9 [00:00<00:00, 63.76it/s]\n",
      "100%|█████████████████████████████████████████████| 8/8 [00:00<00:00, 54.09it/s]\n",
      "100%|███████████████████████████████████████████| 10/10 [00:00<00:00, 68.27it/s]\n",
      "100%|█████████████████████████████████████████████| 7/7 [00:00<00:00, 45.69it/s]\n",
      "100%|███████████████████████████████████████████| 10/10 [00:00<00:00, 59.74it/s]\n",
      "100%|█████████████████████████████████████████████| 8/8 [00:00<00:00, 47.64it/s]\n",
      "100%|█████████████████████████████████████████████| 9/9 [00:00<00:00, 60.89it/s]\n",
      "100%|█████████████████████████████████████████████| 6/6 [00:00<00:00, 22.23it/s]\n",
      "100%|███████████████████████████████████████████| 3/3 [00:00<00:00, 5714.31it/s]\n",
      "100%|█████████████████████████████████████████████| 9/9 [00:00<00:00, 52.26it/s]\n",
      "100%|█████████████████████████████████████████████| 6/6 [00:00<00:00, 40.70it/s]\n",
      "100%|███████████████████████████████████████████| 14/14 [00:00<00:00, 89.45it/s]\n",
      "100%|███████████████████████████████████████████| 6/6 [00:00<00:00, 3839.18it/s]\n",
      "100%|█████████████████████████████████████████████| 9/9 [00:00<00:00, 63.47it/s]\n",
      "100%|█████████████████████████████████████████████| 8/8 [00:00<00:00, 57.49it/s]\n",
      "100%|█████████████████████████████████████████████| 9/9 [00:00<00:00, 59.33it/s]\n",
      "100%|█████████████████████████████████████████████| 7/7 [00:00<00:00, 45.68it/s]\n",
      "100%|█████████████████████████████████████████████| 5/5 [00:00<00:00, 33.26it/s]\n",
      "100%|█████████████████████████████████████████████| 8/8 [00:00<00:00, 54.55it/s]\n",
      "100%|██████████████████████████████████████████| 17/17 [00:00<00:00, 536.17it/s]\n",
      "100%|█████████████████████████████████████████████| 8/8 [00:00<00:00, 50.97it/s]\n",
      "100%|██████████████████████████████████████████| 16/16 [00:00<00:00, 701.69it/s]\n",
      "100%|███████████████████████████████████████████| 4/4 [00:00<00:00, 1355.52it/s]\n"
     ]
    }
   ],
   "source": [
    "data = loader.load()"
   ]
  },
  {
   "cell_type": "code",
   "execution_count": 4,
   "metadata": {},
   "outputs": [
    {
     "name": "stdout",
     "output_type": "stream",
     "text": [
      "You have 1 document(s) in your data\n",
      "There are 111751 characters in your document\n"
     ]
    }
   ],
   "source": [
    "print (f'You have {len(data)} document(s) in your data')\n",
    "print (f'There are {len(data[0].page_content)} characters in your document')"
   ]
  },
  {
   "cell_type": "code",
   "execution_count": 5,
   "metadata": {},
   "outputs": [],
   "source": [
    "text_splitter = RecursiveCharacterTextSplitter(chunk_size=1000, chunk_overlap=0)\n",
    "texts = text_splitter.split_documents(data)"
   ]
  },
  {
   "cell_type": "code",
   "execution_count": 6,
   "metadata": {},
   "outputs": [
    {
     "name": "stdout",
     "output_type": "stream",
     "text": [
      "Now you have 139 documents\n"
     ]
    }
   ],
   "source": [
    "print (f'Now you have {len(texts)} documents')"
   ]
  },
  {
   "cell_type": "code",
   "execution_count": 25,
   "metadata": {},
   "outputs": [],
   "source": [
    "from langchain.vectorstores import Chroma, Pinecone\n",
    "from langchain.embeddings.openai import OpenAIEmbeddings\n",
    "import pinecone"
   ]
  },
  {
   "cell_type": "code",
   "execution_count": null,
   "metadata": {},
   "outputs": [
    {
     "ename": "",
     "evalue": "",
     "output_type": "error",
     "traceback": [
      "\u001b[1;31mJupyter cannot be started. Error attempting to locate Jupyter: Running cells requires notebook and jupyter package.\n",
      "\u001b[1;31mRun the following command to install 'jupyter and notebook' into the Python environment. \n",
      "\u001b[1;31mCommand: 'python -m pip install jupyter notebook -U\n",
      "\u001b[1;31mor\n",
      "\u001b[1;31mconda install jupyter notebook -U'\n",
      "\u001b[1;31mClick <a href='https://aka.ms/installJupyterForVSCode'>here</a> for more info."
     ]
    }
   ],
   "source": [
    "import os\n",
    "from dotenv import load_dotenv\n",
    "\n",
    "load_dotenv()\n",
    "\n",
    "OPENAI_API_KEY =os.getenv.('OPENAI_API_KEY')\n",
    "PINECONE_API_KEY = os.getenv.('PINECONE_API_KEY')\n",
    "PINECONE_API_ENV = os.getenv.('PINECONE_API_ENV')"
   ]
  },
  {
   "cell_type": "code",
   "execution_count": 42,
   "metadata": {},
   "outputs": [],
   "source": [
    "embeddings = OpenAIEmbeddings(openai_api_key=OPENAI_API_KEY)"
   ]
  },
  {
   "cell_type": "code",
   "execution_count": 43,
   "metadata": {},
   "outputs": [],
   "source": [
    "pinecone.init(\n",
    "    api_key=PINECONE_API_KEY,\n",
    "    environment=PINECONE_API_ENV,\n",
    ")\n",
    "index_name = \"testing\""
   ]
  },
  {
   "cell_type": "code",
   "execution_count": 44,
   "metadata": {},
   "outputs": [],
   "source": [
    "docsearch = Pinecone.from_texts([t.page_content for t in texts], embeddings, index_name=index_name)\n"
   ]
  },
  {
   "cell_type": "code",
   "execution_count": 45,
   "metadata": {},
   "outputs": [],
   "source": [
    "from langchain.llms import OpenAI\n",
    "from langchain.chains.question_answering import load_qa_chain"
   ]
  },
  {
   "cell_type": "code",
   "execution_count": 46,
   "metadata": {},
   "outputs": [],
   "source": [
    "llm = OpenAI(temperature=0, openai_api_key=OPENAI_API_KEY)\n",
    "chain = load_qa_chain(llm, chain_type=\"stuff\")"
   ]
  },
  {
   "cell_type": "code",
   "execution_count": 47,
   "metadata": {},
   "outputs": [],
   "source": [
    "query = \"What is Ayurveda?\"\n",
    "docs = docsearch.similarity_search(query, include_metadata=True)"
   ]
  },
  {
   "cell_type": "code",
   "execution_count": 48,
   "metadata": {},
   "outputs": [
    {
     "data": {
      "text/plain": [
       "' Ayurveda is an ancient wisdom of India that embraces health knowledge from more than 2000 years of experience. It is a holistic approach to health and wellness that focuses on the balance of the body, mind, and spirit. It is based on the concept of tridosha, which is the balance of three energies in the body: vata, pitta, and kapha. Ayurveda also emphasizes the importance of proper diet, lifestyle, and the use of herbs and other natural remedies to maintain health and prevent disease.'"
      ]
     },
     "execution_count": 48,
     "metadata": {},
     "output_type": "execute_result"
    }
   ],
   "source": [
    "chain.run(input_documents=docs, question=query)"
   ]
  },
  {
   "cell_type": "code",
   "execution_count": null,
   "metadata": {},
   "outputs": [],
   "source": []
  }
 ],
 "metadata": {
  "kernelspec": {
   "display_name": "Python 3",
   "language": "python",
   "name": "python3"
  },
  "language_info": {
   "codemirror_mode": {
    "name": "ipython",
    "version": 3
   },
   "file_extension": ".py",
   "mimetype": "text/x-python",
   "name": "python",
   "nbconvert_exporter": "python",
   "pygments_lexer": "ipython3",
   "version": "3.9.6"
  },
  "vscode": {
   "interpreter": {
    "hash": "31f2aee4e71d21fbe5cf8b01ff0e069b9275f58929596ceb00d14d90e3e16cd6"
   }
  }
 },
 "nbformat": 4,
 "nbformat_minor": 4
}
